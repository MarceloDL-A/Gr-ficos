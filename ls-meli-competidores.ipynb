{
 "cells": [
  {
   "cell_type": "code",
   "execution_count": 17,
   "id": "072b9447",
   "metadata": {},
   "outputs": [],
   "source": [
    "ls = ['Extra',\n",
    " 'Americanas',\n",
    " 'Fastshop',\n",
    " 'Shopee',\n",
    " 'Amazon',\n",
    " 'Zattini',\n",
    " 'Aliexpress',\n",
    "'Mercado Libre',\n",
    " 'Casas Bahia',\n",
    " 'Centauro',\n",
    " 'Magalu']"
   ]
  },
  {
   "cell_type": "code",
   "execution_count": 20,
   "id": "27fa699f",
   "metadata": {},
   "outputs": [
    {
     "name": "stdout",
     "output_type": "stream",
     "text": [
      "list.remove(x): x not in list\n",
      "['Mercado Libre', 'Extra', 'Americanas', 'Fastshop']\n",
      "['Mercado Libre', 'Shopee', 'Amazon', 'Zattini']\n",
      "['Mercado Libre', 'Aliexpress', 'Casas Bahia', 'Centauro']\n",
      "['Mercado Libre', 'Magalu']\n"
     ]
    }
   ],
   "source": [
    "# ls = list(data_gt_zero.COMPETITOR_NAME.unique())\n",
    "try:\n",
    "    ls.remove('Mercado Libre')\n",
    "except Exception as e:\n",
    "    print(e)\n",
    "for i in range(0, len(ls), 3):\n",
    "    competidores = ['Mercado Libre'] + ls[i: i+3]\n",
    "    print(competidores)"
   ]
  },
  {
   "cell_type": "code",
   "execution_count": null,
   "id": "d53a1afb",
   "metadata": {},
   "outputs": [],
   "source": [
    "\n",
    "\n"
   ]
  },
  {
   "cell_type": "code",
   "execution_count": null,
   "id": "ab8c415c",
   "metadata": {},
   "outputs": [],
   "source": []
  }
 ],
 "metadata": {
  "kernelspec": {
   "display_name": "Python 3 (ipykernel)",
   "language": "python",
   "name": "python3"
  },
  "language_info": {
   "codemirror_mode": {
    "name": "ipython",
    "version": 3
   },
   "file_extension": ".py",
   "mimetype": "text/x-python",
   "name": "python",
   "nbconvert_exporter": "python",
   "pygments_lexer": "ipython3",
   "version": "3.7.4"
  }
 },
 "nbformat": 4,
 "nbformat_minor": 5
}
