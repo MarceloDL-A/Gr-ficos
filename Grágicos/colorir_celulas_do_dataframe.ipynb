{
 "cells": [
  {
   "cell_type": "code",
   "execution_count": 1,
   "id": "69b4f35c",
   "metadata": {},
   "outputs": [
    {
     "data": {
      "text/html": [
       "<style type=\"text/css\">\n",
       "#T_3337e_row0_col0, #T_3337e_row1_col0, #T_3337e_row2_col0 {\n",
       "  background-color: red;\n",
       "  color: white;\n",
       "  border-right: 10px solid red;\n",
       "}\n",
       "#T_3337e_row3_col0, #T_3337e_row4_col0 {\n",
       "  background-color: blue;\n",
       "  color: white;\n",
       "  border-right: 10px solid blue;\n",
       "}\n",
       "</style>\n",
       "<table id=\"T_3337e_\">\n",
       "  <thead>\n",
       "    <tr>\n",
       "      <th class=\"blank level0\" >&nbsp;</th>\n",
       "      <th class=\"col_heading level0 col0\" >col1</th>\n",
       "      <th class=\"col_heading level0 col1\" >col2</th>\n",
       "      <th class=\"col_heading level0 col2\" >col3</th>\n",
       "    </tr>\n",
       "  </thead>\n",
       "  <tbody>\n",
       "    <tr>\n",
       "      <th id=\"T_3337e_level0_row0\" class=\"row_heading level0 row0\" >0</th>\n",
       "      <td id=\"T_3337e_row0_col0\" class=\"data row0 col0\" >1</td>\n",
       "      <td id=\"T_3337e_row0_col1\" class=\"data row0 col1\" >a</td>\n",
       "      <td id=\"T_3337e_row0_col2\" class=\"data row0 col2\" >x</td>\n",
       "    </tr>\n",
       "    <tr>\n",
       "      <th id=\"T_3337e_level0_row1\" class=\"row_heading level0 row1\" >1</th>\n",
       "      <td id=\"T_3337e_row1_col0\" class=\"data row1 col0\" >2</td>\n",
       "      <td id=\"T_3337e_row1_col1\" class=\"data row1 col1\" >b</td>\n",
       "      <td id=\"T_3337e_row1_col2\" class=\"data row1 col2\" >y</td>\n",
       "    </tr>\n",
       "    <tr>\n",
       "      <th id=\"T_3337e_level0_row2\" class=\"row_heading level0 row2\" >2</th>\n",
       "      <td id=\"T_3337e_row2_col0\" class=\"data row2 col0\" >3</td>\n",
       "      <td id=\"T_3337e_row2_col1\" class=\"data row2 col1\" >c</td>\n",
       "      <td id=\"T_3337e_row2_col2\" class=\"data row2 col2\" >z</td>\n",
       "    </tr>\n",
       "    <tr>\n",
       "      <th id=\"T_3337e_level0_row3\" class=\"row_heading level0 row3\" >3</th>\n",
       "      <td id=\"T_3337e_row3_col0\" class=\"data row3 col0\" >-4</td>\n",
       "      <td id=\"T_3337e_row3_col1\" class=\"data row3 col1\" >d</td>\n",
       "      <td id=\"T_3337e_row3_col2\" class=\"data row3 col2\" >w</td>\n",
       "    </tr>\n",
       "    <tr>\n",
       "      <th id=\"T_3337e_level0_row4\" class=\"row_heading level0 row4\" >4</th>\n",
       "      <td id=\"T_3337e_row4_col0\" class=\"data row4 col0\" >-5</td>\n",
       "      <td id=\"T_3337e_row4_col1\" class=\"data row4 col1\" >e</td>\n",
       "      <td id=\"T_3337e_row4_col2\" class=\"data row4 col2\" >v</td>\n",
       "    </tr>\n",
       "  </tbody>\n",
       "</table>\n"
      ],
      "text/plain": [
       "<pandas.io.formats.style.Styler at 0x7fb521e9d110>"
      ]
     },
     "execution_count": 1,
     "metadata": {},
     "output_type": "execute_result"
    }
   ],
   "source": [
    "import pandas as pd\n",
    "\n",
    "# cria um exemplo de DataFrame\n",
    "df = pd.DataFrame({'col1': [1, 2, 3, -4, -5],\n",
    "                  'col2': ['a', 'b', 'c', 'd', 'e'],\n",
    "                  'col3': ['x', 'y', 'z', 'w', 'v']})\n",
    "\n",
    "# define a função de estilo para colorir a coluna numérica\n",
    "def colorir_celulas(val):\n",
    "    color = 'red' if val > 0 else 'blue'\n",
    "    return 'background-color: %s; color: white; border-right: 10px solid %s;' % (color, color)\n",
    "\n",
    "# aplica a função de estilo à coluna numérica\n",
    "df.style.applymap(colorir_celulas, subset=pd.IndexSlice[:, ['col1']])\n"
   ]
  },
  {
   "cell_type": "code",
   "execution_count": null,
   "id": "2674c074",
   "metadata": {},
   "outputs": [],
   "source": []
  }
 ],
 "metadata": {
  "kernelspec": {
   "display_name": "Python 3 (ipykernel)",
   "language": "python",
   "name": "python3"
  },
  "language_info": {
   "codemirror_mode": {
    "name": "ipython",
    "version": 3
   },
   "file_extension": ".py",
   "mimetype": "text/x-python",
   "name": "python",
   "nbconvert_exporter": "python",
   "pygments_lexer": "ipython3",
   "version": "3.7.4"
  }
 },
 "nbformat": 4,
 "nbformat_minor": 5
}
