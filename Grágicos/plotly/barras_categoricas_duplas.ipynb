{
 "cells": [
  {
   "cell_type": "code",
   "execution_count": 1,
   "id": "7a2b13c9",
   "metadata": {},
   "outputs": [],
   "source": [
    "import plotly.graph_objects as go\n",
    "import numpy as np\n",
    "import plotly.io as pio\n",
    "pio.renderers.default = \"iframe\"\n",
    "\n",
    "# Generate data for each group\n",
    "group1 = np.random.normal(170, 5, size=100)\n",
    "group2 = np.random.normal(175, 7, size=100)\n",
    "group3 = np.random.normal(180, 10, size=100)\n",
    "group4 = np.random.normal(185, 12, size=100)\n",
    "group5 = np.random.normal(190, 15, size=100)\n",
    "\n",
    "# Calculate mean and standard deviation for each group\n",
    "mean1 = np.mean(group1)\n",
    "std1 = np.std(group1)\n",
    "mean2 = np.mean(group2)\n",
    "std2 = np.std(group2)\n",
    "mean3 = np.mean(group3)\n",
    "std3 = np.std(group3)\n",
    "mean4 = np.mean(group4)\n",
    "std4 = np.std(group4)\n",
    "mean5 = np.mean(group5)\n",
    "std5 = np.std(group5)"
   ]
  },
  {
   "cell_type": "code",
   "execution_count": 2,
   "id": "770a83e5",
   "metadata": {},
   "outputs": [
    {
     "data": {
      "text/html": [
       "<div>\n",
       "<style scoped>\n",
       "    .dataframe tbody tr th:only-of-type {\n",
       "        vertical-align: middle;\n",
       "    }\n",
       "\n",
       "    .dataframe tbody tr th {\n",
       "        vertical-align: top;\n",
       "    }\n",
       "\n",
       "    .dataframe thead th {\n",
       "        text-align: right;\n",
       "    }\n",
       "</style>\n",
       "<table border=\"1\" class=\"dataframe\">\n",
       "  <thead>\n",
       "    <tr style=\"text-align: right;\">\n",
       "      <th></th>\n",
       "      <th>Group</th>\n",
       "      <th>Sex</th>\n",
       "      <th>Mean</th>\n",
       "      <th>Standard deviation</th>\n",
       "    </tr>\n",
       "  </thead>\n",
       "  <tbody>\n",
       "    <tr>\n",
       "      <th>0</th>\n",
       "      <td>1</td>\n",
       "      <td>Male</td>\n",
       "      <td>169.598009</td>\n",
       "      <td>4.896317</td>\n",
       "    </tr>\n",
       "    <tr>\n",
       "      <th>1</th>\n",
       "      <td>2</td>\n",
       "      <td>Female</td>\n",
       "      <td>175.117449</td>\n",
       "      <td>7.032780</td>\n",
       "    </tr>\n",
       "    <tr>\n",
       "      <th>2</th>\n",
       "      <td>3</td>\n",
       "      <td>Male</td>\n",
       "      <td>181.362002</td>\n",
       "      <td>9.567318</td>\n",
       "    </tr>\n",
       "    <tr>\n",
       "      <th>3</th>\n",
       "      <td>4</td>\n",
       "      <td>Female</td>\n",
       "      <td>185.896660</td>\n",
       "      <td>11.609673</td>\n",
       "    </tr>\n",
       "    <tr>\n",
       "      <th>4</th>\n",
       "      <td>5</td>\n",
       "      <td>Male</td>\n",
       "      <td>190.487259</td>\n",
       "      <td>14.979045</td>\n",
       "    </tr>\n",
       "  </tbody>\n",
       "</table>\n",
       "</div>"
      ],
      "text/plain": [
       "  Group     Sex        Mean  Standard deviation\n",
       "0     1    Male  169.598009            4.896317\n",
       "1     2  Female  175.117449            7.032780\n",
       "2     3    Male  181.362002            9.567318\n",
       "3     4  Female  185.896660           11.609673\n",
       "4     5    Male  190.487259           14.979045"
      ]
     },
     "execution_count": 2,
     "metadata": {},
     "output_type": "execute_result"
    }
   ],
   "source": [
    "import pandas as pd\n",
    "\n",
    "data = {'Group': ['1', '2', '3', '4', '5']*2,\n",
    "        'Sex': ['Male', 'Female']*5,\n",
    "        'Mean': [mean1, mean2, mean3, mean4, mean5]*2,\n",
    "        'Standard deviation': [std1, std2, std3, std4, std5]*2}\n",
    "df = pd.DataFrame(data)\n",
    "df.head()"
   ]
  },
  {
   "cell_type": "code",
   "execution_count": 3,
   "id": "dc1be418",
   "metadata": {},
   "outputs": [
    {
     "data": {
      "text/html": [
       "<iframe\n",
       "    scrolling=\"no\"\n",
       "    width=\"100%\"\n",
       "    height=\"545px\"\n",
       "    src=\"iframe_figures/figure_3.html\"\n",
       "    frameborder=\"0\"\n",
       "    allowfullscreen\n",
       "></iframe>\n"
      ]
     },
     "metadata": {},
     "output_type": "display_data"
    }
   ],
   "source": [
    "fig = go.Figure()\n",
    "\n",
    "for group in df['Group'].unique():\n",
    "    for sex in df['Sex'].unique():\n",
    "        filtered_df = df[(df['Group'] == group) & (df['Sex'] == sex)]\n",
    "        fig.add_trace(go.Bar(\n",
    "#             position='dodge',\n",
    "            x=filtered_df['Group'],\n",
    "            y=filtered_df['Mean'],\n",
    "            error_y=dict(type='data', array=filtered_df['Standard deviation'], visible=True),\n",
    "            name=sex + ' ' + 'Mean Height',\n",
    "\n",
    "        ))\n",
    "\n",
    "fig.update_layout(\n",
    "    title_text='Mean and Standard Deviation of Heights by Group and Sex',\n",
    "    xaxis_title_text='Group',\n",
    "    yaxis_title_text='Height (cm)',\n",
    ")\n",
    "\n",
    "\n",
    "# fig.update_xaxes(tickmode='auto')\n",
    "\n",
    "\n",
    "fig.update_layout(\n",
    "    bargap=0.0,\n",
    "    bargroupgap=0.0,\n",
    "    boxgap = 1,\n",
    "    boxgroupgap = 0.0\n",
    ")\n",
    "\n",
    "\n",
    "fig.show()\n"
   ]
  },
  {
   "cell_type": "code",
   "execution_count": 5,
   "id": "f3f479c0",
   "metadata": {},
   "outputs": [
    {
     "data": {
      "text/html": [
       "<iframe\n",
       "    scrolling=\"no\"\n",
       "    width=\"100%\"\n",
       "    height=\"545px\"\n",
       "    src=\"iframe_figures/figure_5.html\"\n",
       "    frameborder=\"0\"\n",
       "    allowfullscreen\n",
       "></iframe>\n"
      ]
     },
     "metadata": {},
     "output_type": "display_data"
    }
   ],
   "source": [
    "fig = go.Figure()\n",
    "\n",
    "\n",
    "for sex in df['Sex'].unique():\n",
    "    filtered_df = df[(df['Sex'] == sex)]\n",
    "    fig.add_trace(go.Bar(\n",
    "#             position='dodge',\n",
    "        x=filtered_df['Group'],\n",
    "        y=filtered_df['Mean'],\n",
    "        error_y=dict(type='data', array=filtered_df['Standard deviation'], visible=True),\n",
    "        name=sex + ' ' + 'Mean Height',\n",
    "\n",
    "    ))\n",
    "\n",
    "fig.update_layout(\n",
    "    title_text='Mean and Standard Deviation of Heights by Group and Sex',\n",
    "    xaxis_title_text='Group',\n",
    "    yaxis_title_text='Height (cm)',\n",
    ")\n",
    "\n",
    "\n",
    "# fig.update_xaxes(tickmode='auto')\n",
    "\n",
    "\n",
    "fig.update_layout(\n",
    "    bargap=0.2,\n",
    "    bargroupgap=0.4,\n",
    "    boxgap = 1,\n",
    "    boxgroupgap = 0.0\n",
    ")\n",
    "\n",
    "\n",
    "fig.show()\n"
   ]
  },
  {
   "cell_type": "code",
   "execution_count": null,
   "id": "dc807156",
   "metadata": {},
   "outputs": [],
   "source": []
  },
  {
   "cell_type": "code",
   "execution_count": null,
   "id": "df6ebd36",
   "metadata": {},
   "outputs": [],
   "source": []
  }
 ],
 "metadata": {
  "kernelspec": {
   "display_name": "Python 3 (ipykernel)",
   "language": "python",
   "name": "python3"
  },
  "language_info": {
   "codemirror_mode": {
    "name": "ipython",
    "version": 3
   },
   "file_extension": ".py",
   "mimetype": "text/x-python",
   "name": "python",
   "nbconvert_exporter": "python",
   "pygments_lexer": "ipython3",
   "version": "3.7.4"
  }
 },
 "nbformat": 4,
 "nbformat_minor": 5
}
