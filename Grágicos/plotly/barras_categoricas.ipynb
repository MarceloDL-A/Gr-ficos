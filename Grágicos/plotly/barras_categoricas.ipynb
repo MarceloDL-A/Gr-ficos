{
 "cells": [
  {
   "cell_type": "code",
   "execution_count": 7,
   "id": "5e23b623",
   "metadata": {},
   "outputs": [
    {
     "data": {
      "text/html": [
       "<iframe\n",
       "    scrolling=\"no\"\n",
       "    width=\"100%\"\n",
       "    height=\"545px\"\n",
       "    src=\"iframe_figures/figure_7.html\"\n",
       "    frameborder=\"0\"\n",
       "    allowfullscreen\n",
       "></iframe>\n"
      ]
     },
     "metadata": {},
     "output_type": "display_data"
    }
   ],
   "source": [
    "import plotly.graph_objects as go\n",
    "import numpy as np\n",
    "\n",
    "# Generate data for each group\n",
    "group1 = np.random.normal(170, 5, size=100)\n",
    "group2 = np.random.normal(175, 7, size=100)\n",
    "group3 = np.random.normal(180, 10, size=100)\n",
    "group4 = np.random.normal(185, 12, size=100)\n",
    "group5 = np.random.normal(190, 15, size=100)\n",
    "\n",
    "# Calculate mean and standard deviation for each group\n",
    "mean1 = np.mean(group1)\n",
    "std1 = np.std(group1)\n",
    "mean2 = np.mean(group2)\n",
    "std2 = np.std(group2)\n",
    "mean3 = np.mean(group3)\n",
    "std3 = np.std(group3)\n",
    "mean4 = np.mean(group4)\n",
    "std4 = np.std(group4)\n",
    "mean5 = np.mean(group5)\n",
    "std5 = np.std(group5)\n",
    "\n",
    "fig = go.Figure()\n",
    "\n",
    "fig.add_trace(go.Bar(\n",
    "x=['Group 1', 'Group 2', 'Group 3', 'Group 4', 'Group 5'],\n",
    "y=[mean1, mean2, mean3, mean4, mean5],\n",
    "error_y=dict(type='data', array=[std1, std2, std3, std4, std5], visible=True),\n",
    "name='Mean Height'\n",
    "))\n",
    "\n",
    "fig.update_layout(\n",
    "title_text='Mean and Standard Deviation of Heights by Group',\n",
    "xaxis_title_text='Group',\n",
    "yaxis_title_text='Height (cm)'\n",
    ")\n",
    "\n",
    "fig.show()"
   ]
  },
  {
   "cell_type": "code",
   "execution_count": null,
   "id": "27989ffd",
   "metadata": {},
   "outputs": [],
   "source": []
  }
 ],
 "metadata": {
  "kernelspec": {
   "display_name": "Python 3 (ipykernel)",
   "language": "python",
   "name": "python3"
  },
  "language_info": {
   "codemirror_mode": {
    "name": "ipython",
    "version": 3
   },
   "file_extension": ".py",
   "mimetype": "text/x-python",
   "name": "python",
   "nbconvert_exporter": "python",
   "pygments_lexer": "ipython3",
   "version": "3.7.4"
  }
 },
 "nbformat": 4,
 "nbformat_minor": 5
}
