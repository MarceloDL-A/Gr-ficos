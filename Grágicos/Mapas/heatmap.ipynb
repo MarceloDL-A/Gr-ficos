{
 "cells": [
  {
   "cell_type": "markdown",
   "id": "0b60e1f5",
   "metadata": {},
   "source": [
    "[DadosAbertosBrasil](https://www.gustavofurtado.com/DadosAbertosBrasil/_ibge/misc.html)\n",
    "\n",
    "[Folium](https://medium.com/datasciencearth/map-visualization-with-folium-d1403771717)\n",
    "\n",
    "[Folium and Geopandas: FeatureGroup for categorial data](https://www.riannek.de/2022/folium-featuregroup-categorial-data/)"
   ]
  },
  {
   "cell_type": "code",
   "execution_count": 1,
   "id": "d8174f3c",
   "metadata": {},
   "outputs": [],
   "source": [
    "from DadosAbertosBrasil import ibge\n",
    "import pandas as pd"
   ]
  },
  {
   "cell_type": "code",
   "execution_count": 2,
   "id": "be39ea88",
   "metadata": {},
   "outputs": [],
   "source": [
    "df_localidades = ibge.localidades()"
   ]
  },
  {
   "cell_type": "code",
   "execution_count": 3,
   "id": "0a9428dc",
   "metadata": {},
   "outputs": [],
   "source": [
    "df_coordenadas = ibge.coordenadas()"
   ]
  },
  {
   "cell_type": "code",
   "execution_count": 4,
   "id": "a42e1fd5",
   "metadata": {},
   "outputs": [],
   "source": [
    "df_LATLONG = df_coordenadas[['NM_MUNICIPIO', 'LONG', 'LAT']]"
   ]
  },
  {
   "cell_type": "code",
   "execution_count": 5,
   "id": "5925173a",
   "metadata": {},
   "outputs": [],
   "source": [
    "import folium\n",
    "from folium import plugins\n",
    "from folium.plugins import HeatMap"
   ]
  },
  {
   "cell_type": "code",
   "execution_count": 6,
   "id": "489dd458",
   "metadata": {},
   "outputs": [],
   "source": [
    "df = df_LATLONG.sample(n=100)"
   ]
  },
  {
   "cell_type": "markdown",
   "id": "bdf7b551",
   "metadata": {},
   "source": [
    "# Exemplo 1 de Folium"
   ]
  },
  {
   "cell_type": "code",
   "execution_count": 7,
   "id": "206fbc53",
   "metadata": {},
   "outputs": [
    {
     "name": "stderr",
     "output_type": "stream",
     "text": [
      "/usr/local/lib/python3.7/site-packages/ipykernel_launcher.py:9: UserWarning: The `max_val` parameter is no longer necessary. The largest intensity is calculated automatically.\n",
      "  if __name__ == \"__main__\":\n"
     ]
    },
    {
     "data": {
      "text/plain": [
       "<folium.map.LayerControl at 0x7f13d504b4d0>"
      ]
     },
     "execution_count": 7,
     "metadata": {},
     "output_type": "execute_result"
    }
   ],
   "source": [
    "mapc = folium.Map(location=[df_LATLONG.LAT.mean(), df_LATLONG.LONG.mean()], zoom_start=5, control_scale=True)\n",
    "\n",
    "# Configuração de heatmap\n",
    "heatmap = HeatMap(list(zip(df.LAT, df.LONG, df[\"LONG\"]**10)),\n",
    "               min_opacity=0.5,\n",
    "               max_val=df[\"LONG\"].max(),\n",
    "               radius=50, blur=30, \n",
    "               max_zoom=1,\n",
    "              control=True,\n",
    "        )\n",
    "# Cria camadas\n",
    "layer3 = folium.FeatureGroup(name='Heatmap', control=True)\n",
    "\n",
    "\n",
    "layer3.add_child(heatmap)\n",
    "\n",
    "# Adiciona as camadas ao mapa\n",
    "\n",
    "mapc.add_child(layer3)\n",
    "\n",
    "\n",
    "# Adiciona o controle de camdas ao mapa\n",
    "folium.LayerControl().add_to(mapc)"
   ]
  },
  {
   "cell_type": "code",
   "execution_count": 8,
   "id": "b9b30a33",
   "metadata": {},
   "outputs": [
    {
     "data": {
      "text/html": [
       "<div style=\"width:100%;\"><div style=\"position:relative;width:100%;height:0;padding-bottom:60%;\"><span style=\"color:#565656\">Make this Notebook Trusted to load map: File -> Trust Notebook</span><iframe srcdoc=\"&lt;!DOCTYPE html&gt;\n",
       "&lt;html&gt;\n",
       "&lt;head&gt;\n",
       "    \n",
       "    &lt;meta http-equiv=&quot;content-type&quot; content=&quot;text/html; charset=UTF-8&quot; /&gt;\n",
       "    \n",
       "        &lt;script&gt;\n",
       "            L_NO_TOUCH = false;\n",
       "            L_DISABLE_3D = false;\n",
       "        &lt;/script&gt;\n",
       "    \n",
       "    &lt;style&gt;html, body {width: 100%;height: 100%;margin: 0;padding: 0;}&lt;/style&gt;\n",
       "    &lt;style&gt;#map {position:absolute;top:0;bottom:0;right:0;left:0;}&lt;/style&gt;\n",
       "    &lt;script src=&quot;https://cdn.jsdelivr.net/npm/leaflet@1.9.3/dist/leaflet.js&quot;&gt;&lt;/script&gt;\n",
       "    &lt;script src=&quot;https://code.jquery.com/jquery-1.12.4.min.js&quot;&gt;&lt;/script&gt;\n",
       "    &lt;script src=&quot;https://cdn.jsdelivr.net/npm/bootstrap@5.2.2/dist/js/bootstrap.bundle.min.js&quot;&gt;&lt;/script&gt;\n",
       "    &lt;script src=&quot;https://cdnjs.cloudflare.com/ajax/libs/Leaflet.awesome-markers/2.0.2/leaflet.awesome-markers.js&quot;&gt;&lt;/script&gt;\n",
       "    &lt;link rel=&quot;stylesheet&quot; href=&quot;https://cdn.jsdelivr.net/npm/leaflet@1.9.3/dist/leaflet.css&quot;/&gt;\n",
       "    &lt;link rel=&quot;stylesheet&quot; href=&quot;https://cdn.jsdelivr.net/npm/bootstrap@5.2.2/dist/css/bootstrap.min.css&quot;/&gt;\n",
       "    &lt;link rel=&quot;stylesheet&quot; href=&quot;https://netdna.bootstrapcdn.com/bootstrap/3.0.0/css/bootstrap.min.css&quot;/&gt;\n",
       "    &lt;link rel=&quot;stylesheet&quot; href=&quot;https://cdn.jsdelivr.net/npm/@fortawesome/fontawesome-free@6.2.0/css/all.min.css&quot;/&gt;\n",
       "    &lt;link rel=&quot;stylesheet&quot; href=&quot;https://cdnjs.cloudflare.com/ajax/libs/Leaflet.awesome-markers/2.0.2/leaflet.awesome-markers.css&quot;/&gt;\n",
       "    &lt;link rel=&quot;stylesheet&quot; href=&quot;https://cdn.jsdelivr.net/gh/python-visualization/folium/folium/templates/leaflet.awesome.rotate.min.css&quot;/&gt;\n",
       "    \n",
       "            &lt;meta name=&quot;viewport&quot; content=&quot;width=device-width,\n",
       "                initial-scale=1.0, maximum-scale=1.0, user-scalable=no&quot; /&gt;\n",
       "            &lt;style&gt;\n",
       "                #map_e73584e6d994cb0832c809693162a09a {\n",
       "                    position: relative;\n",
       "                    width: 100.0%;\n",
       "                    height: 100.0%;\n",
       "                    left: 0.0%;\n",
       "                    top: 0.0%;\n",
       "                }\n",
       "                .leaflet-container { font-size: 1rem; }\n",
       "            &lt;/style&gt;\n",
       "        \n",
       "    &lt;script src=&quot;https://cdn.jsdelivr.net/gh/python-visualization/folium@main/folium/templates/leaflet_heat.min.js&quot;&gt;&lt;/script&gt;\n",
       "&lt;/head&gt;\n",
       "&lt;body&gt;\n",
       "    \n",
       "    \n",
       "            &lt;div class=&quot;folium-map&quot; id=&quot;map_e73584e6d994cb0832c809693162a09a&quot; &gt;&lt;/div&gt;\n",
       "        \n",
       "&lt;/body&gt;\n",
       "&lt;script&gt;\n",
       "    \n",
       "    \n",
       "            var map_e73584e6d994cb0832c809693162a09a = L.map(\n",
       "                &quot;map_e73584e6d994cb0832c809693162a09a&quot;,\n",
       "                {\n",
       "                    center: [-14.067144574523127, -45.5448010707875],\n",
       "                    crs: L.CRS.EPSG3857,\n",
       "                    zoom: 5,\n",
       "                    zoomControl: true,\n",
       "                    preferCanvas: false,\n",
       "                }\n",
       "            );\n",
       "            L.control.scale().addTo(map_e73584e6d994cb0832c809693162a09a);\n",
       "\n",
       "            \n",
       "\n",
       "        \n",
       "    \n",
       "            var tile_layer_77888c9ac0aa4a43c596d01d1e8c603b = L.tileLayer(\n",
       "                &quot;https://{s}.tile.openstreetmap.org/{z}/{x}/{y}.png&quot;,\n",
       "                {&quot;attribution&quot;: &quot;Data by \\u0026copy; \\u003ca target=\\&quot;_blank\\&quot; href=\\&quot;http://openstreetmap.org\\&quot;\\u003eOpenStreetMap\\u003c/a\\u003e, under \\u003ca target=\\&quot;_blank\\&quot; href=\\&quot;http://www.openstreetmap.org/copyright\\&quot;\\u003eODbL\\u003c/a\\u003e.&quot;, &quot;detectRetina&quot;: false, &quot;maxNativeZoom&quot;: 18, &quot;maxZoom&quot;: 18, &quot;minZoom&quot;: 0, &quot;noWrap&quot;: false, &quot;opacity&quot;: 1, &quot;subdomains&quot;: &quot;abc&quot;, &quot;tms&quot;: false}\n",
       "            ).addTo(map_e73584e6d994cb0832c809693162a09a);\n",
       "        \n",
       "    \n",
       "            var feature_group_e9588c742027744b53cbc2784dfd494d = L.featureGroup(\n",
       "                {}\n",
       "            ).addTo(map_e73584e6d994cb0832c809693162a09a);\n",
       "        \n",
       "    \n",
       "            var heat_map_f4de7918749ca18148e2fed88ea7fb9f = L.heatLayer(\n",
       "                [[-16.9881509792396, -41.3466118151556, 1.460156032346961e+16], [-21.8604299256592, -48.9686386189049, 7.928304165639443e+16], [-6.35418186391414, -47.3821649019193, 5.703599188346515e+16], [-2.39036011121162, -44.6446115148359, 3.1455057401670308e+16], [-6.16471664583519, -47.3676328633342, 5.686130458478897e+16], [-27.4965154544601, -53.6244462145635, 1.9662023104586746e+17], [-27.0396859574226, -48.854729991908, 7.74579812308586e+16], [-13.2968133668957, -46.3938887513768, 4.619636111422149e+16], [-4.10846219696635, -38.9193850194828, 7973696328923659.0], [-11.366067489092, -38.4907491063217, 7137787824006099.0], [-5.79117610285868, -37.5537021978471, 5578630280215581.0], [-12.7084898610615, -46.4070829808607, 4.632790991458829e+16], [-7.51997520233178, -36.2019943537191, 3866561862971165.0], [-20.0675921178852, -40.4211156008768, 1.1643484151347372e+16], [-21.4911659171055, -51.6993207216788, 1.364106785607178e+17], [-21.7199768347533, -52.2671638353656, 1.5215609256373744e+17], [-8.22838262010094, -35.6932633846169, 3356313865003723.0], [-14.2142436774117, -39.3925056325225, 8997794245601947.0], [-11.068167945653, -41.6878403707028, 1.585236165689781e+16], [-20.3127356555697, -42.738655897902, 2.03333341494763e+16], [-23.6271105197246, -49.5660638969023, 8.95043873224553e+16], [-21.216358, -50.5154336557468, 1.0820338714921597e+17], [-15.7825651304128, -56.2228250061882, 3.155924729018552e+17], [-14.0987942362774, -45.6101574058483, 3.895970954452878e+16], [-13.7044445475816, -52.0284267394106, 1.4534728937409334e+17], [-23.8910800999407, -53.4761116238275, 1.9124857656986205e+17], [-25.2256085448222, -48.4590501052242, 7.140834510921508e+16], [-14.9928650186313, -42.8349669395022, 2.0796217956138548e+16], [-4.52303971489444, -40.5908059198501, 1.2141622951202878e+16], [-4.8121695104654, -37.7368512868465, 5856748888667848.0], [-1.05707432068823, -46.7040324749264, 4.937917119513886e+16], [-11.997368046906, -42.0572603375386, 1.7314493348141768e+16], [-5.549841, -48.7203734107844, 7.53539603485579e+16], [-28.5498270015269, -55.1249876005859, 2.591105211930437e+17], [-5.33428828958666, -46.2093719899273, 4.439158611152561e+16], [-4.40822968626824, -69.8959286054465, 2.7830357871569833e+18], [-29.6105181571742, -52.8002691715719, 1.684074753977389e+17], [-5.91753977581793, -46.9331509338425, 5.185577420106136e+16], [-18.7548935512186, -41.4293032481919, 1.4896227439253376e+16], [-27.1747514992324, -50.8064082491164, 1.1460008405412917e+17], [-22.5332920781479, -50.2934781215653, 1.035420381528665e+17], [-7.96937072999384, -49.1536817327996, 8.2330457969461e+16], [-15.2676561500436, -54.3057179218879, 2.230774104614527e+17], [-13.2248154003312, -40.1536067050123, 1.0895460954044736e+16], [-8.31509853559744, -55.0946647117251, 2.5768874139847165e+17], [-15.4975142295561, -58.5739923860232, 4.7538805404063354e+17], [-1.93745041296278, -46.3882465187684, 4.614020974995484e+16], [-6.19900163145729, -61.9365481940358, 8.307492901855878e+17], [-23.0276361792654, -46.7322375044401, 4.967818862773164e+16], [-4.65552505515387, -37.949626569371, 6195481539013649.0], [-21.373649395517, -49.5145233258949, 8.857803152951165e+16], [-28.8412073525718, -51.5500835290437, 1.3252375511002699e+17], [-28.7074213215954, -49.4767128161436, 8.790394746693326e+16], [-9.39181222510958, -35.840378300501, 3497243330122123.0], [-27.9805601536344, -50.976876489193, 1.185037827998477e+17], [-28.8519212264382, -52.2168403566471, 1.5069744566035395e+17], [-25.7712785724928, -53.6619945094232, 1.9800132885248733e+17], [-24.657489499284, -49.0083019947608, 7.992756022905024e+16], [-8.33661689425432, -36.7310304040843, 4470242841940609.5], [-9.88625387152961, -58.6068949710817, 4.780651966848276e+17], [-22.3183902300014, -46.7054471746748, 4.939413055093396e+16], [-1.8255207812193, -44.8677616169761, 3.3063135576681616e+16], [-4.21506799278292, -40.5491079927233, 1.2017470080841838e+16], [-11.4125218908424, -38.4257452437171, 7018155576122456.0], [-10.3877721948223, -37.3839764494164, 5331567896818060.0], [-18.9873613695253, -40.7366381673749, 1.2584960462236758e+16], [-16.3452378745064, -42.0055169333633, 1.7102647177373952e+16], [-18.7129060016259, -40.401547877017, 1.1587241073303196e+16], [-2.1538424601705, -45.7963627805418, 4.05797970046298e+16], [-8.41208885024321, -35.8455157823182, 3502259632641028.5], [-5.83851870108946, -35.6903638553156, 3353588372080735.0], [-23.6048077109203, -52.5180339765652, 1.596190046018507e+17], [-23.155366005, -47.6640551313484, 6.052152769755815e+16], [-22.3228079212771, -45.5801414287095, 3.870407423534286e+16], [-20.5110931464723, -46.8523306919636, 5.096969085849957e+16], [-16.8575455378911, -53.03561988386, 1.760664034152025e+17], [-4.457406793143, -50.477682961636, 1.0739748617658254e+17], [-1.53801374217764, -45.4118247021693, 3.729834204192718e+16], [-21.0033896488589, -43.7324683506607, 2.5588209932288284e+16], [-16.5097588294509, -44.0824818774434, 2.7711521823955696e+16], [-3.94975589054106, -58.8322461546325, 4.967687821852233e+17], [-21.6075545062609, -42.8364467678468, 2.0803403585021176e+16], [-10.5005535329999, -38.2406083428379, 6687255635884939.0], [-29.1352453644604, -49.6079009506717, 9.026273986078082e+16], [-8.72894713995984, -35.4210637187779, 3108966139787708.0], [-23.0265555, -45.5566086966874, 3.850471122778964e+16], [-12.9627022204678, -60.8888152257646, 7.004469303542729e+17], [5.06955196666603, -60.1703006336671, 6.220450148944698e+17], [-14.1171230866441, -49.2935466118784, 8.470336473705955e+16], [-21.5359771209445, -42.1779115574882, 1.7817662081124306e+16], [-22.2343431372872, -47.7217642676754, 6.125829586662901e+16], [-13.011655482433, -61.1286961928154, 7.285365229834136e+17], [-19.2509065878575, -45.7760184459354, 4.0399887397573464e+16], [-3.45406265468465, -39.1713764485243, 8505274321324894.0], [-1.96142616897571, -47.3032086240139, 5.609265590019954e+16], [-12.4076854885, -42.866321945367, 2.094894776349474e+16], [-9.17746740787288, -36.0348195760587, 3691675498553104.0], [-0.829849787304034, -47.5659942814689, 5.9287862523407304e+16], [-26.8178702209916, -53.5046288706139, 1.9227090020217363e+17], [-14.3729222943841, -40.501176329753, 1.18761690784566e+16]],\n",
       "                {&quot;blur&quot;: 30, &quot;maxZoom&quot;: 1, &quot;minOpacity&quot;: 0.5, &quot;radius&quot;: 50}\n",
       "            ).addTo(feature_group_e9588c742027744b53cbc2784dfd494d);\n",
       "        \n",
       "    \n",
       "            var layer_control_02b8b84c373442da4c752c3d64713d96 = {\n",
       "                base_layers : {\n",
       "                    &quot;openstreetmap&quot; : tile_layer_77888c9ac0aa4a43c596d01d1e8c603b,\n",
       "                },\n",
       "                overlays :  {\n",
       "                    &quot;Heatmap&quot; : feature_group_e9588c742027744b53cbc2784dfd494d,\n",
       "                },\n",
       "            };\n",
       "            L.control.layers(\n",
       "                layer_control_02b8b84c373442da4c752c3d64713d96.base_layers,\n",
       "                layer_control_02b8b84c373442da4c752c3d64713d96.overlays,\n",
       "                {&quot;autoZIndex&quot;: true, &quot;collapsed&quot;: true, &quot;position&quot;: &quot;topright&quot;}\n",
       "            ).addTo(map_e73584e6d994cb0832c809693162a09a);\n",
       "        \n",
       "&lt;/script&gt;\n",
       "&lt;/html&gt;\" style=\"position:absolute;width:100%;height:100%;left:0;top:0;border:none !important;\" allowfullscreen webkitallowfullscreen mozallowfullscreen></iframe></div></div>"
      ],
      "text/plain": [
       "<folium.folium.Map at 0x7f13d4cb3dd0>"
      ]
     },
     "execution_count": 8,
     "metadata": {},
     "output_type": "execute_result"
    }
   ],
   "source": [
    "mapc"
   ]
  },
  {
   "cell_type": "code",
   "execution_count": 9,
   "id": "225f44a6",
   "metadata": {},
   "outputs": [],
   "source": [
    "mapc.save(\"mapa_camadas.html\")"
   ]
  },
  {
   "cell_type": "code",
   "execution_count": null,
   "id": "c847619c",
   "metadata": {},
   "outputs": [],
   "source": []
  }
 ],
 "metadata": {
  "kernelspec": {
   "display_name": "Python 3 (ipykernel)",
   "language": "python",
   "name": "python3"
  },
  "language_info": {
   "codemirror_mode": {
    "name": "ipython",
    "version": 3
   },
   "file_extension": ".py",
   "mimetype": "text/x-python",
   "name": "python",
   "nbconvert_exporter": "python",
   "pygments_lexer": "ipython3",
   "version": "3.7.4"
  }
 },
 "nbformat": 4,
 "nbformat_minor": 5
}
