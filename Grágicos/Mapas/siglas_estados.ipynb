{
 "cells": [
  {
   "cell_type": "code",
   "execution_count": 20,
   "id": "ed020043",
   "metadata": {},
   "outputs": [],
   "source": [
    "from ibge.localidades import Municipios"
   ]
  },
  {
   "cell_type": "code",
   "execution_count": 21,
   "id": "c2748c2a",
   "metadata": {},
   "outputs": [],
   "source": [
    "import pandas as pd"
   ]
  },
  {
   "cell_type": "code",
   "execution_count": 22,
   "id": "57b0017a",
   "metadata": {},
   "outputs": [],
   "source": [
    "municipios = Municipios()"
   ]
  },
  {
   "cell_type": "markdown",
   "id": "be00b03c",
   "metadata": {},
   "source": [
    "pd.DataFrame({\"CIUDAD\": municipios.getNome(), \"UF\": municipios.getSiglaUF()}).reset_index(drop=True).to_csv(\"CIUDADE_UF.csv\")"
   ]
  },
  {
   "cell_type": "raw",
   "id": "52f19d6e",
   "metadata": {},
   "source": [
    "municipios"
   ]
  },
  {
   "cell_type": "code",
   "execution_count": null,
   "id": "cb961388",
   "metadata": {},
   "outputs": [],
   "source": []
  }
 ],
 "metadata": {
  "kernelspec": {
   "display_name": "Python 3 (ipykernel)",
   "language": "python",
   "name": "python3"
  },
  "language_info": {
   "codemirror_mode": {
    "name": "ipython",
    "version": 3
   },
   "file_extension": ".py",
   "mimetype": "text/x-python",
   "name": "python",
   "nbconvert_exporter": "python",
   "pygments_lexer": "ipython3",
   "version": "3.7.4"
  }
 },
 "nbformat": 4,
 "nbformat_minor": 5
}
