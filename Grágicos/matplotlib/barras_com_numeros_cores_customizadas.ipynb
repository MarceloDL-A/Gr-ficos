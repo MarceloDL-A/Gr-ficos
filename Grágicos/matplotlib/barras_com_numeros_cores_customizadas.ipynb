{
 "cells": [
  {
   "cell_type": "code",
   "execution_count": 47,
   "id": "e9d0e2a9",
   "metadata": {},
   "outputs": [],
   "source": [
    "import pandas as pd\n",
    "import numpy as np\n",
    "import matplotlib.pyplot as plt\n",
    "import seaborn as sns\n",
    "\n",
    "df = pd.DataFrame({\"quantidade\": [1, 2, 3, 5, 6, 7, 8, 10, 11, 5], \"std\": [1, 0.5, 0.5, 0.5, 0.5, 0.5, 1, 1, 1, 1]}, index = list(range(2000, 2010)))"
   ]
  },
  {
   "cell_type": "code",
   "execution_count": 50,
   "id": "968913e0",
   "metadata": {},
   "outputs": [
    {
     "data": {
      "text/plain": [
       "10"
      ]
     },
     "execution_count": 50,
     "metadata": {},
     "output_type": "execute_result"
    }
   ],
   "source": [
    "len(df['std'].to_list())"
   ]
  },
  {
   "cell_type": "code",
   "execution_count": 51,
   "id": "339588af",
   "metadata": {},
   "outputs": [
    {
     "data": {
      "text/html": [
       "<div>\n",
       "<style scoped>\n",
       "    .dataframe tbody tr th:only-of-type {\n",
       "        vertical-align: middle;\n",
       "    }\n",
       "\n",
       "    .dataframe tbody tr th {\n",
       "        vertical-align: top;\n",
       "    }\n",
       "\n",
       "    .dataframe thead th {\n",
       "        text-align: right;\n",
       "    }\n",
       "</style>\n",
       "<table border=\"1\" class=\"dataframe\">\n",
       "  <thead>\n",
       "    <tr style=\"text-align: right;\">\n",
       "      <th></th>\n",
       "      <th>quantidade</th>\n",
       "      <th>std</th>\n",
       "    </tr>\n",
       "  </thead>\n",
       "  <tbody>\n",
       "    <tr>\n",
       "      <th>2000</th>\n",
       "      <td>1</td>\n",
       "      <td>1.0</td>\n",
       "    </tr>\n",
       "    <tr>\n",
       "      <th>2001</th>\n",
       "      <td>2</td>\n",
       "      <td>0.5</td>\n",
       "    </tr>\n",
       "    <tr>\n",
       "      <th>2002</th>\n",
       "      <td>3</td>\n",
       "      <td>0.5</td>\n",
       "    </tr>\n",
       "    <tr>\n",
       "      <th>2003</th>\n",
       "      <td>5</td>\n",
       "      <td>0.5</td>\n",
       "    </tr>\n",
       "    <tr>\n",
       "      <th>2004</th>\n",
       "      <td>6</td>\n",
       "      <td>0.5</td>\n",
       "    </tr>\n",
       "    <tr>\n",
       "      <th>2005</th>\n",
       "      <td>7</td>\n",
       "      <td>0.5</td>\n",
       "    </tr>\n",
       "    <tr>\n",
       "      <th>2006</th>\n",
       "      <td>8</td>\n",
       "      <td>1.0</td>\n",
       "    </tr>\n",
       "    <tr>\n",
       "      <th>2007</th>\n",
       "      <td>10</td>\n",
       "      <td>1.0</td>\n",
       "    </tr>\n",
       "    <tr>\n",
       "      <th>2008</th>\n",
       "      <td>11</td>\n",
       "      <td>1.0</td>\n",
       "    </tr>\n",
       "    <tr>\n",
       "      <th>2009</th>\n",
       "      <td>5</td>\n",
       "      <td>1.0</td>\n",
       "    </tr>\n",
       "  </tbody>\n",
       "</table>\n",
       "</div>"
      ],
      "text/plain": [
       "      quantidade  std\n",
       "2000           1  1.0\n",
       "2001           2  0.5\n",
       "2002           3  0.5\n",
       "2003           5  0.5\n",
       "2004           6  0.5\n",
       "2005           7  0.5\n",
       "2006           8  1.0\n",
       "2007          10  1.0\n",
       "2008          11  1.0\n",
       "2009           5  1.0"
      ]
     },
     "execution_count": 51,
     "metadata": {},
     "output_type": "execute_result"
    }
   ],
   "source": [
    "df"
   ]
  },
  {
   "cell_type": "code",
   "execution_count": 57,
   "id": "86510257",
   "metadata": {},
   "outputs": [
    {
     "data": {
      "image/png": "[encoded data removed]",
      "text/plain": [
       "<Figure size 800x600 with 1 Axes>"
      ]
     },
     "metadata": {},
     "output_type": "display_data"
    }
   ],
   "source": [
    "altura = []\n",
    "for i in df['quantidade']:\n",
    "       altura.append(i)\n",
    "posicao = []\n",
    "for i in range(0,10,1): \n",
    "       posicao.append(i)\n",
    "\n",
    "#criando uma figure, axes, alterando tamanho\n",
    "fig, ax = plt.subplots(figsize=(8,6))\n",
    "\n",
    "#lista de cores\n",
    "colors = ['red', 'green', 'blue', 'orange', 'purple', 'pink', 'yellow', 'black', 'brown', 'gray']\n",
    "\n",
    "#criando o gráfico de barras\n",
    "sns.barplot(x=df.index, y=df['quantidade'],  ax=ax, data=df, palette=colors)\n",
    "\n",
    "#adicionando título\n",
    "ax.set_title(\"quantidade x ano\", fontdict={'fontsize':15})\n",
    "\n",
    "#mudando e nome e tamanho do label x\n",
    "ax.set_xlabel('Anos', fontdict={'fontsize':14})\n",
    "#mudando tamanho do label eixo y\n",
    "ax.set_ylabel('')\n",
    "\n",
    "#mudando tamanho dos labels dos ticks\n",
    "ax.tick_params(labelsize=14)\n",
    "#aumentando espessura linha inferior\n",
    "ax.spines['bottom'].set_linewidth(2.5)\n",
    "\n",
    "#remoção dos outros três axis\n",
    "for axis in ['top', 'right', 'left']:\n",
    "    ax.spines[axis].set_color(None)\n",
    "    \n",
    "#remoção dos ticks\n",
    "ax.tick_params(axis='y', labelleft=False, left=None)    \n",
    "\n",
    "#Colocando a quantidade em cada barra\n",
    "for i in range(10):\n",
    "    if altura[i] > 6:\n",
    "        ax.text(x=posicao[i]-0.2, y=altura[i]+0.2, s=str(altura[i]),   \n",
    "               fontsize=15,\n",
    "                c='red'\n",
    "               )\n",
    "    else:\n",
    "        ax.text(x=posicao[i]-0.2, y=altura[i]+0.2, s=str(altura[i]),   \n",
    "               fontsize=15,\n",
    "                c='blue'\n",
    "               )\n",
    "#otimizar espaço da figure\n",
    "fig.tight_layout();"
   ]
  },
  {
   "cell_type": "code",
   "execution_count": null,
   "id": "df304caa",
   "metadata": {},
   "outputs": [],
   "source": []
  }
 ],
 "metadata": {
  "kernelspec": {
   "display_name": "Python 3 (ipykernel)",
   "language": "python",
   "name": "python3"
  },
  "language_info": {
   "codemirror_mode": {
    "name": "ipython",
    "version": 3
   },
   "file_extension": ".py",
   "mimetype": "text/x-python",
   "name": "python",
   "nbconvert_exporter": "python",
   "pygments_lexer": "ipython3",
   "version": "3.7.4"
  }
 },
 "nbformat": 4,
 "nbformat_minor": 5
}
