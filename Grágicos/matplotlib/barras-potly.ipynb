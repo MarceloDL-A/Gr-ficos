{
 "cells": [
  {
   "cell_type": "code",
   "execution_count": 1,
   "id": "aa2444d2",
   "metadata": {},
   "outputs": [
    {
     "data": {
      "text/html": [
       "<iframe\n",
       "    scrolling=\"no\"\n",
       "    width=\"100%\"\n",
       "    height=\"545px\"\n",
       "    src=\"iframe_figures/figure_11.html\"\n",
       "    frameborder=\"0\"\n",
       "    allowfullscreen\n",
       "></iframe>\n"
      ]
     },
     "metadata": {},
     "output_type": "display_data"
    }
   ],
   "source": [
    "import plotly.graph_objs as go\n",
    "import plotly.io as pio\n",
    "pio.renderers.default = \"iframe\"\n",
    "\n",
    "# Create example data\n",
    "x = ['A', 'B', 'C', 'D']\n",
    "y = [1, 2, 3, 4]\n",
    "y_err = [0.1, 0.2, 0.3, 0.4]\n",
    "\n",
    "# Create trace for bar chart\n",
    "trace = go.Bar(x=x, y=y, error_y=dict(type='data', array=y_err, visible=True))\n",
    "\n",
    "# Create layout for the graph\n",
    "layout = go.Layout(\n",
    "    clickmode='event+select',\n",
    "    hovermode='closest'\n",
    ")\n",
    "\n",
    "# Create the figure object\n",
    "fig = go.Figure(data=[trace], layout=layout)\n",
    "\n",
    "# Show the figure\n",
    "fig.show()\n"
   ]
  },
  {
   "cell_type": "code",
   "execution_count": null,
   "id": "a03e06d6",
   "metadata": {},
   "outputs": [],
   "source": []
  }
 ],
 "metadata": {
  "kernelspec": {
   "display_name": "Python 3 (ipykernel)",
   "language": "python",
   "name": "python3"
  },
  "language_info": {
   "codemirror_mode": {
    "name": "ipython",
    "version": 3
   },
   "file_extension": ".py",
   "mimetype": "text/x-python",
   "name": "python",
   "nbconvert_exporter": "python",
   "pygments_lexer": "ipython3",
   "version": "3.7.4"
  }
 },
 "nbformat": 4,
 "nbformat_minor": 5
}
