{
 "cells": [
  {
   "cell_type": "code",
   "execution_count": 14,
   "id": "7e1c3eae",
   "metadata": {},
   "outputs": [],
   "source": [
    "import pandas as pd\n",
    "\n",
    "# criando um exemplo de dataframe\n",
    "df = pd.DataFrame({'Aluno': ['A', 'B', 'C', 'A', 'B', 'C'],\n",
    "                   'Matéria': ['Matemática', 'Matemática', 'Matemática', 'Português', 'Inglês', 'Inglês']})\n",
    "\n",
    "# agrupar as informações pelo nome de matéria e verificar quantos alunos têm cada matéria\n",
    "materias = df.groupby('Matéria').Aluno.nunique()\n",
    "\n",
    "# filtrar somente as matérias que todos os alunos têm\n",
    "todos_têm = materias[materias == df['Aluno'].nunique()].index.tolist()\n",
    "\n",
    "# filtrar o dataframe original somente com as matérias que todos os alunos têm\n",
    "df_filtrado = df[df['Matéria'].isin(todos_têm)].reset_index(drop=True)\n"
   ]
  },
  {
   "cell_type": "code",
   "execution_count": 15,
   "id": "f23bbe7c",
   "metadata": {},
   "outputs": [
    {
     "data": {
      "text/plain": [
       "3"
      ]
     },
     "execution_count": 15,
     "metadata": {},
     "output_type": "execute_result"
    }
   ],
   "source": [
    "len(materias.index)"
   ]
  },
  {
   "cell_type": "code",
   "execution_count": 17,
   "id": "e873deb9",
   "metadata": {},
   "outputs": [
    {
     "data": {
      "text/plain": [
       "1"
      ]
     },
     "execution_count": 17,
     "metadata": {},
     "output_type": "execute_result"
    }
   ],
   "source": [
    "df_filtrado['Matéria'].nunique()"
   ]
  },
  {
   "cell_type": "code",
   "execution_count": null,
   "id": "9695cc58",
   "metadata": {},
   "outputs": [],
   "source": []
  }
 ],
 "metadata": {
  "kernelspec": {
   "display_name": "Python 3 (ipykernel)",
   "language": "python",
   "name": "python3"
  },
  "language_info": {
   "codemirror_mode": {
    "name": "ipython",
    "version": 3
   },
   "file_extension": ".py",
   "mimetype": "text/x-python",
   "name": "python",
   "nbconvert_exporter": "python",
   "pygments_lexer": "ipython3",
   "version": "3.7.4"
  }
 },
 "nbformat": 4,
 "nbformat_minor": 5
}
