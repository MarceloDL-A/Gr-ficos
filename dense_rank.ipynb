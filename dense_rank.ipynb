{
 "cells": [
  {
   "cell_type": "code",
   "execution_count": 10,
   "id": "bdc4accf",
   "metadata": {},
   "outputs": [
    {
     "name": "stdout",
     "output_type": "stream",
     "text": [
      "  competitor     frete_type  price  rank\n",
      "0          A        Express   30.0   3.0\n",
      "1          A  International   60.0   1.0\n",
      "2          A      Overnight   40.0   2.0\n",
      "3          A        Regular   10.0   4.0\n",
      "4          B        Express   15.0   4.0\n",
      "5          B  International   55.0   1.0\n",
      "6          B      Overnight   50.0   2.0\n",
      "7          B        Regular   20.0   3.0\n"
     ]
    }
   ],
   "source": [
    "import pandas as pd\n",
    "\n",
    "# Criar um DataFrame exemplo\n",
    "data = {'competitor': ['A', 'B', 'A', 'B', 'A', 'B', 'A', 'B'],\n",
    "        'frete_type': ['Regular', 'Regular', 'Express', 'Express', 'Overnight', 'Overnight', 'International', 'International'],\n",
    "        'price': [10, 20, 30, 15, 40, 50, 60, 55]}\n",
    "df = pd.DataFrame(data)\n",
    "\n",
    "# Agrupar os dados por competidor e frete_type e calcular o preço médio\n",
    "grouped = df.groupby(['competitor', 'frete_type'])['price'].mean().reset_index()\n",
    "\n",
    "# Criar uma coluna de ranking baseada no preço médio\n",
    "grouped['rank'] = grouped.groupby('competitor')['price'].rank(ascending=False, method='dense')\n",
    "\n",
    "# Mostrar o resultado\n",
    "print(grouped)\n"
   ]
  },
  {
   "cell_type": "code",
   "execution_count": null,
   "id": "dd5dbf5b",
   "metadata": {},
   "outputs": [],
   "source": []
  }
 ],
 "metadata": {
  "kernelspec": {
   "display_name": "Python 3 (ipykernel)",
   "language": "python",
   "name": "python3"
  },
  "language_info": {
   "codemirror_mode": {
    "name": "ipython",
    "version": 3
   },
   "file_extension": ".py",
   "mimetype": "text/x-python",
   "name": "python",
   "nbconvert_exporter": "python",
   "pygments_lexer": "ipython3",
   "version": "3.7.4"
  }
 },
 "nbformat": 4,
 "nbformat_minor": 5
}
